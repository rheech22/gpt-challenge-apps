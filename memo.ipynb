{
 "cells": [
  {
   "cell_type": "markdown",
   "metadata": {},
   "source": [
    "### 주피터 노트북 사용법\n",
    "1. ipynb 확장자로 파일 만들기\n",
    "2. select kernel 클릭하여 파이썬 가상 환경 선택(이때 설치하라고 나오는 익스텐션 설치)"
   ]
  }
 ],
 "metadata": {
  "kernelspec": {
   "display_name": "gpt-course-yGce6w4L",
   "language": "python",
   "name": "python3"
  },
  "language_info": {
   "codemirror_mode": {
    "name": "ipython",
    "version": 3
   },
   "file_extension": ".py",
   "mimetype": "text/x-python",
   "name": "python",
   "nbconvert_exporter": "python",
   "pygments_lexer": "ipython3",
   "version": "3.11.9"
  }
 },
 "nbformat": 4,
 "nbformat_minor": 2
}
